{
 "cells": [
  {
   "cell_type": "code",
   "execution_count": 1,
   "metadata": {
    "collapsed": true
   },
   "outputs": [],
   "source": [
    "from __future__ import print_function"
   ]
  },
  {
   "cell_type": "code",
   "execution_count": 2,
   "metadata": {
    "collapsed": false
   },
   "outputs": [
    {
     "name": "stdout",
     "output_type": "stream",
     "text": [
      "1.10.4\n"
     ]
    }
   ],
   "source": [
    "import numpy as np\n",
    "print(np.__version__)"
   ]
  },
  {
   "cell_type": "code",
   "execution_count": 3,
   "metadata": {
    "collapsed": false
   },
   "outputs": [
    {
     "name": "stdout",
     "output_type": "stream",
     "text": [
      "0.18.1\n"
     ]
    }
   ],
   "source": [
    "import pandas as pd\n",
    "print(pd.__version__)"
   ]
  },
  {
   "cell_type": "code",
   "execution_count": 4,
   "metadata": {
    "collapsed": false
   },
   "outputs": [
    {
     "name": "stdout",
     "output_type": "stream",
     "text": [
      "0.17.1\n"
     ]
    }
   ],
   "source": [
    "import scipy as sp\n",
    "print(sp.__version__)\n",
    "from scipy.stats import pearsonr, spearmanr, kendalltau"
   ]
  },
  {
   "cell_type": "code",
   "execution_count": 5,
   "metadata": {
    "collapsed": false
   },
   "outputs": [
    {
     "name": "stdout",
     "output_type": "stream",
     "text": [
      "0.1.15-54-g512d0bc\n"
     ]
    }
   ],
   "source": [
    "import oddt\n",
    "print(oddt.__version__)\n",
    "from oddt.scoring.functions import rfscore\n",
    "from oddt.scoring.models.regressors import randomforest\n",
    "from oddt.metrics import enrichment_factor, roc_auc, roc_log_auc"
   ]
  },
  {
   "cell_type": "code",
   "execution_count": 6,
   "metadata": {
    "collapsed": false
   },
   "outputs": [
    {
     "name": "stdout",
     "output_type": "stream",
     "text": [
      "0.17.1\n"
     ]
    }
   ],
   "source": [
    "import sklearn\n",
    "print(sklearn.__version__)\n",
    "from sklearn.metrics import accuracy_score, precision_score, mean_squared_error, recall_score\n",
    "from sklearn.utils import compute_sample_weight"
   ]
  },
  {
   "cell_type": "code",
   "execution_count": 7,
   "metadata": {
    "collapsed": true
   },
   "outputs": [],
   "source": [
    "from compiledtrees import CompiledRegressionPredictor"
   ]
  },
  {
   "cell_type": "code",
   "execution_count": 8,
   "metadata": {
    "collapsed": true
   },
   "outputs": [],
   "source": [
    "dude_ids = ['aa2ar', 'abl1', 'ace', 'aces', 'ada', 'ada17', 'adrb1', 'adrb2', 'akt1', 'akt2', 'aldr', 'ampc', 'andr', 'aofb', 'bace1', 'braf', 'cah2', 'casp3', 'cdk2', 'comt', 'cp2c9', 'cp3a4', 'csf1r', 'cxcr4', 'def', 'dhi1', 'dpp4', 'drd3', 'dyr', 'egfr', 'esr1', 'esr2', 'fa10', 'fa7', 'fabp4', 'fak1', 'fgfr1', 'fkb1a', 'fnta', 'fpps', 'gcr', 'glcm', 'gria2', 'grik1', 'hdac2', 'hdac8', 'hivint', 'hivpr', 'hivrt', 'hmdh', 'hs90a', 'hxk4', 'igf1r', 'inha', 'ital', 'jak2', 'kif11', 'kit', 'kith', 'kpcb', 'lck', 'lkha4', 'mapk2', 'mcr', 'met', 'mk01', 'mk10', 'mk14', 'mmp13', 'mp2k1', 'nos1', 'nram', 'pa2ga', 'parp1', 'pde5a', 'pgh1', 'pgh2', 'plk1', 'pnph', 'ppara', 'ppard', 'pparg', 'prgr', 'ptn1', 'pur2', 'pygm', 'pyrd', 'reni', 'rock1', 'rxra', 'sahh', 'src', 'tgfr1', 'thb', 'thrb', 'try1', 'tryb1', 'tysy', 'urok', 'vgfr2', 'wee1', 'xiap']"
   ]
  },
  {
   "cell_type": "code",
   "execution_count": 9,
   "metadata": {
    "collapsed": false,
    "scrolled": true
   },
   "outputs": [
    {
     "name": "stderr",
     "output_type": "stream",
     "text": [
      "[Parallel(n_jobs=-1)]: Done 136 tasks      | elapsed:  2.0min\n",
      "[Parallel(n_jobs=-1)]: Done 386 tasks      | elapsed:  5.3min\n",
      "[Parallel(n_jobs=-1)]: Done 500 out of 500 | elapsed:  6.7min finished\n"
     ]
    },
    {
     "name": "stdout",
     "output_type": "stream",
     "text": [
      "{'rs_inactive': 0.0078994276925536989, 'ef10': 6.631390864542062, 'rk_inactive': 0.0064541255446605439, 'rk_active': 0.18090721603973298, 'rp': 0.47391474234695885, 'rs': 0.16004379292960716, 'rp_active': 0.28927875179221163, 'mse': 0.052550697921816339, 'accuracy': 0.85428775349936326, 'engine': 'dude', 'rs_active': 0.26606187778568879, 'precision': 0.076577482106208017, 'trees': 500, 'roc_auc': 0.79370740938941364, 'roc_log_auc': 0.24308646293973404, 'ef1': 31.445210096721294, 'ef2': 20.802044237866514, 'ef5': 11.106028639128734, 'recall': 0.73111944295661491, 'rp_inactive': 0.019958151555354537, 'v': 1, 'ef0.1': 58.02107443999991, 'rk': 0.1303878889466468}\n"
     ]
    },
    {
     "name": "stderr",
     "output_type": "stream",
     "text": [
      "[Parallel(n_jobs=-1)]: Done 136 tasks      | elapsed:  5.2min\n",
      "[Parallel(n_jobs=-1)]: Done 386 tasks      | elapsed: 13.7min\n",
      "[Parallel(n_jobs=-1)]: Done 500 out of 500 | elapsed: 17.2min finished\n"
     ]
    },
    {
     "name": "stdout",
     "output_type": "stream",
     "text": [
      "{'rs_inactive': 0.0078465061814315014, 'ef10': 7.436156142106129, 'rk_inactive': 0.0064082474586386459, 'rk_active': 0.19606032706589291, 'rp': 0.54525421990549217, 'rs': 0.17533394052567763, 'rp_active': 0.31485942935610955, 'mse': 0.04989076896040115, 'accuracy': 0.85112502926128408, 'engine': 'dude', 'rs_active': 0.28734859545006985, 'precision': 0.081412503552914739, 'trees': 500, 'roc_auc': 0.82865313658113282, 'roc_log_auc': 0.24955833784729434, 'ef1': 39.452691560669905, 'ef2': 25.446294217375172, 'ef5': 12.920879231794009, 'recall': 0.80543652919121589, 'rp_inactive': 0.019329849784086556, 'v': 2, 'ef0.1': 61.859391672184515, 'rk': 0.14281583451042326}\n"
     ]
    },
    {
     "name": "stderr",
     "output_type": "stream",
     "text": [
      "[Parallel(n_jobs=-1)]: Done 136 tasks      | elapsed:  2.4min\n",
      "[Parallel(n_jobs=-1)]: Done 386 tasks      | elapsed:  6.2min\n",
      "[Parallel(n_jobs=-1)]: Done 500 out of 500 | elapsed:  7.8min finished\n"
     ]
    },
    {
     "name": "stdout",
     "output_type": "stream",
     "text": [
      "{'rs_inactive': 0.0077715122229207569, 'ef10': 7.40268004902942, 'rk_inactive': 0.006347897114986306, 'rk_active': 0.18969995513025165, 'rp': 0.5427143605161161, 'rs': 0.17448897254814955, 'rp_active': 0.30825014149144941, 'mse': 0.049151951562882559, 'accuracy': 0.86281450958803696, 'engine': 'dude', 'rs_active': 0.2788282235449539, 'precision': 0.086586474100276534, 'trees': 500, 'roc_auc': 0.82750210868585794, 'roc_log_auc': 0.2586269166102762, 'ef1': 38.113647837601576, 'ef2': 24.683039295226227, 'ef5': 12.708417627733835, 'recall': 0.79101946081056951, 'rp_inactive': 0.021549099301043966, 'v': 3, 'ef0.1': 61.54697050212298, 'rk': 0.14213966181991033}\n"
     ]
    },
    {
     "name": "stderr",
     "output_type": "stream",
     "text": [
      "[Parallel(n_jobs=-1)]: Done 136 tasks      | elapsed:  1.2min\n",
      "[Parallel(n_jobs=-1)]: Done 386 tasks      | elapsed:  3.2min\n",
      "[Parallel(n_jobs=-1)]: Done 500 out of 500 | elapsed:  4.1min finished\n"
     ]
    },
    {
     "name": "stdout",
     "output_type": "stream",
     "text": [
      "{'rs_inactive': 0.005488127046901034, 'ef10': 6.09156986230789, 'rk_inactive': 0.004483972856129244, 'rk_active': 0.16310214170845497, 'rp': 0.37042443108533979, 'rs': 0.12097253741328259, 'rp_active': 0.25316835630698881, 'mse': 0.039552052995112309, 'accuracy': 0.9000328353145296, 'engine': 'dock', 'rs_active': 0.24100176391167266, 'precision': 0.064116974477238811, 'trees': 500, 'roc_auc': 0.75777545370707311, 'roc_log_auc': 0.27246819492785584, 'ef1': 27.41217408771459, 'ef2': 18.078893342454577, 'ef5': 9.934102442087461, 'recall': 0.61240166589541878, 'rp_inactive': 0.01236634946277417, 'v': 1, 'ef0.1': 71.10452104130846, 'rk': 0.098634644329957985}\n"
     ]
    },
    {
     "name": "stderr",
     "output_type": "stream",
     "text": [
      "[Parallel(n_jobs=-1)]: Done 136 tasks      | elapsed:  3.0min\n",
      "[Parallel(n_jobs=-1)]: Done 386 tasks      | elapsed:  8.2min\n",
      "[Parallel(n_jobs=-1)]: Done 500 out of 500 | elapsed: 10.3min finished\n"
     ]
    },
    {
     "name": "stdout",
     "output_type": "stream",
     "text": [
      "{'rs_inactive': 0.0070669498049497834, 'ef10': 6.682957456050634, 'rk_inactive': 0.0057711513150373274, 'rk_active': 0.18315494697219167, 'rp': 0.42098839725948584, 'rs': 0.13313188781176358, 'rp_active': 0.27768386090169961, 'mse': 0.039040567795287369, 'accuracy': 0.89748537042897203, 'engine': 'dock', 'rs_active': 0.27084624618487008, 'precision': 0.068331094193163161, 'trees': 500, 'roc_auc': 0.78884978307361098, 'roc_log_auc': 0.2794754940481971, 'ef1': 33.49245713147843, 'ef2': 21.364282201718144, 'ef5': 11.166841817237499, 'recall': 0.67783433595557607, 'rp_inactive': 0.0086485803383092412, 'v': 2, 'ef0.1': 83.77203649340113, 'rk': 0.10851646731562994}\n"
     ]
    },
    {
     "name": "stderr",
     "output_type": "stream",
     "text": [
      "[Parallel(n_jobs=-1)]: Done 136 tasks      | elapsed:  1.4min\n",
      "[Parallel(n_jobs=-1)]: Done 386 tasks      | elapsed:  3.7min\n",
      "[Parallel(n_jobs=-1)]: Done 500 out of 500 | elapsed:  4.6min finished\n"
     ]
    },
    {
     "name": "stdout",
     "output_type": "stream",
     "text": [
      "{'rs_inactive': 0.0065496034675900025, 'ef10': 6.664493894843092, 'rk_inactive': 0.0053496583951725416, 'rk_active': 0.17218366000331659, 'rp': 0.42117160096558071, 'rs': 0.13163255867800111, 'rp_active': 0.26546563367887394, 'mse': 0.038694782540247177, 'accuracy': 0.90131074315291604, 'engine': 'dock', 'rs_active': 0.2547419633631679, 'precision': 0.070599453185051134, 'trees': 500, 'roc_auc': 0.78767586335274398, 'roc_log_auc': 0.28329096868533615, 'ef1': 32.75198463152428, 'ef2': 21.068068102194133, 'ef5': 11.176284998489818, 'recall': 0.6715409532623785, 'rp_inactive': 0.012042040714483246, 'v': 3, 'ef0.1': 82.08001367966357, 'rk': 0.1073050733228235}\n"
     ]
    },
    {
     "name": "stderr",
     "output_type": "stream",
     "text": [
      "[Parallel(n_jobs=-1)]: Done 136 tasks      | elapsed:  1.2min\n",
      "[Parallel(n_jobs=-1)]: Done 386 tasks      | elapsed:  3.0min\n",
      "[Parallel(n_jobs=-1)]: Done 500 out of 500 | elapsed:  3.8min finished\n"
     ]
    },
    {
     "name": "stdout",
     "output_type": "stream",
     "text": [
      "{'rs_inactive': 0.009496002683938725, 'ef10': 6.8824829966257175, 'rk_inactive': 0.0077581987271842017, 'rk_active': 0.18855667112018878, 'rp': 0.49993628125012346, 'rs': 0.17184784486455493, 'rp_active': 0.31410524506850324, 'mse': 0.052405994684015016, 'accuracy': 0.85626449567425433, 'engine': 'vina', 'rs_active': 0.2772833190982199, 'precision': 0.083859182995682499, 'trees': 500, 'roc_auc': 0.8054984846700699, 'roc_log_auc': 0.24770832724963257, 'ef1': 32.57859744904416, 'ef2': 21.583049021292123, 'ef5': 11.59838293222476, 'recall': 0.75294956566835214, 'rp_inactive': 0.022726785611511001, 'v': 1, 'ef0.1': 56.42110814765424, 'rk': 0.13998707767013771}\n"
     ]
    },
    {
     "name": "stderr",
     "output_type": "stream",
     "text": [
      "[Parallel(n_jobs=-1)]: Done 136 tasks      | elapsed:  3.0min\n",
      "[Parallel(n_jobs=-1)]: Done 386 tasks      | elapsed:  7.6min\n",
      "[Parallel(n_jobs=-1)]: Done 500 out of 500 | elapsed:  9.6min finished\n"
     ]
    },
    {
     "name": "stdout",
     "output_type": "stream",
     "text": [
      "{'rs_inactive': 0.010433739344630977, 'ef10': 7.675294214942874, 'rk_inactive': 0.0085206911826491896, 'rk_active': 0.21178106365988228, 'rp': 0.56576059334030848, 'rs': 0.18675814567537186, 'rp_active': 0.34524676685701278, 'mse': 0.050021093613616938, 'accuracy': 0.85261892638809311, 'engine': 'vina', 'rs_active': 0.30946487108073406, 'precision': 0.088657033249856049, 'trees': 500, 'roc_auc': 0.84075352623677413, 'roc_log_auc': 0.25378816709395324, 'ef1': 39.51435138268469, 'ef2': 26.237390272917814, 'ef5': 13.38624008218429, 'recall': 0.8284714119019837, 'rp_inactive': 0.021510063656661339, 'v': 2, 'ef0.1': 58.68831685622817, 'rk': 0.15211170520008768}\n"
     ]
    },
    {
     "name": "stderr",
     "output_type": "stream",
     "text": [
      "[Parallel(n_jobs=-1)]: Done 136 tasks      | elapsed:  1.3min\n",
      "[Parallel(n_jobs=-1)]: Done 386 tasks      | elapsed:  3.4min\n",
      "[Parallel(n_jobs=-1)]: Done 500 out of 500 | elapsed:  4.3min finished\n"
     ]
    },
    {
     "name": "stdout",
     "output_type": "stream",
     "text": [
      "{'rs_inactive': 0.01049604612220454, 'ef10': 7.552126486831461, 'rk_inactive': 0.0085734858628343895, 'rk_active': 0.19332825361767192, 'rp': 0.55308048649677877, 'rs': 0.18435684512858758, 'rp_active': 0.32102290735327005, 'mse': 0.049968593726952892, 'accuracy': 0.86032026023756136, 'engine': 'vina', 'rs_active': 0.28413493637684489, 'precision': 0.091761176556669349, 'trees': 500, 'roc_auc': 0.83705766702979711, 'roc_log_auc': 0.25907886659808255, 'ef1': 38.15961066106705, 'ef2': 25.339582106691967, 'ef5': 13.142500311196333, 'recall': 0.81297808894074941, 'rp_inactive': 0.022040515371892562, 'v': 3, 'ef0.1': 58.29965250618692, 'rk': 0.15016020084899706}\n",
      "CPU times: user 1d 12h 3min 11s, sys: 8min 51s, total: 1d 12h 12min 2s\n",
      "Wall time: 4h 37min 48s\n"
     ]
    }
   ],
   "source": [
    "%%time\n",
    "out = []\n",
    "for engine, v, trees in [(e, v, trees) for e in ['dude', 'dock', 'vina'] for v in [1,2,3] for trees in [500]]:#range(100,2001,100)]:\n",
    "# for engine, v, trees in [(e, v, trees) for e in ['vina'] for v in [3] for trees in [500]]:#range(100,2001,100)]:\n",
    "    \n",
    "    train_full = []\n",
    "    \n",
    "    if v == 1:\n",
    "        col_range = range(1,37)\n",
    "        np_type = np.uint16\n",
    "    elif v == 2:\n",
    "        col_range = range(1,217)\n",
    "        np_type = np.uint16\n",
    "    elif v == 3:\n",
    "        col_range = range(1,43)   \n",
    "        np_type = np.float16\n",
    "    \n",
    "    act_cutoff = 6.\n",
    "    inactive_cutoff = 5.95\n",
    "\n",
    "    for dude_id in dude_ids:\n",
    "        # trap errors on reading\n",
    "        try:\n",
    "            actives_full = pd.read_csv('head1_full/%s/%s/%s_desc_v%i.csv.gz' % (dude_id, engine, 'actives', v), dtype={i: np_type for i in col_range})\n",
    "            decoys_full = pd.read_csv('head1_full/%s/%s/%s_desc_v%i.csv.gz' % (dude_id, engine, 'decoys', v), dtype={i: np_type for i in col_range})\n",
    "        except:\n",
    "            continue\n",
    "        decoys_full['act'] = inactive_cutoff if act_cutoff > 10 else 10**(9-inactive_cutoff)\n",
    "        \n",
    "        # generate one big table for dude_id\n",
    "        train = pd.concat((actives_full, decoys_full))\n",
    "        \n",
    "        # normalize\n",
    "        if act_cutoff >= 10:\n",
    "            train['act'] = np.clip(train['act'], 1e-9, inactive_cutoff)\n",
    "        else:\n",
    "            train['act'] = np.clip(-np.log10(np.clip(train['act'], 1e-9, 1e9) * 1e-9), 0 , 15)\n",
    "        # binary\n",
    "        if act_cutoff >= 10:\n",
    "            train['act_bin'] = train['act'] < act_cutoff\n",
    "        else:\n",
    "            train['act_bin'] = train['act'] > act_cutoff\n",
    "\n",
    "        \n",
    "        if len(train_full) == 0:\n",
    "            train_full = train\n",
    "        else:\n",
    "            train_full = pd.concat((train_full, train))\n",
    "\n",
    "    if v == 2:\n",
    "        mtry = 50\n",
    "    else:\n",
    "        mtry = 15\n",
    "\n",
    "    # Train Random Forest\n",
    "    oddt.random_seed(0)\n",
    "    rf = randomforest(n_estimators=trees, n_jobs=-1, verbose=1,\n",
    "                            max_features=mtry, \n",
    "                            oob_score=True,\n",
    "                            bootstrap = True,\n",
    "                            random_state = 0,\n",
    "                           )\n",
    "    rf.fit(train_full[col_range].values,\n",
    "           train_full['act'].values,\n",
    "           sample_weight=compute_sample_weight('balanced', train_full['act_bin'].values))   \n",
    "    rf.verbose = 0\n",
    "\n",
    "    # Gather predictions\n",
    "    train_full['pred'] = rf.oob_prediction_\n",
    "    if act_cutoff > 10:\n",
    "        train_full['pred_bin'] = train_full['pred'] < act_cutoff \n",
    "    else:\n",
    "        train_full['pred_bin'] = train_full['pred'] > act_cutoff\n",
    "    \n",
    "    test_df = train_full.sort_values('pred', ascending=(act_cutoff >= 10))# log is descending\n",
    "\n",
    "    d = {'engine': engine,\n",
    "         'v': v,\n",
    "         'trees': trees,\n",
    "         \n",
    "         'roc_auc': roc_auc(test_df['act_bin'], test_df['pred_bin'], ascending_score=False),# Binary is descending\n",
    "\n",
    "         'ef0.1': enrichment_factor(test_df['act_bin'], test_df['pred_bin'], percentage=0.1),\n",
    "         'ef1': enrichment_factor(test_df['act_bin'], test_df['pred_bin']),\n",
    "         'ef2': enrichment_factor(test_df['act_bin'], test_df['pred_bin'], percentage=2),\n",
    "         'ef5': enrichment_factor(test_df['act_bin'], test_df['pred_bin'], percentage=5),\n",
    "         'ef10': enrichment_factor(test_df['act_bin'], test_df['pred_bin'], percentage=10),\n",
    "\n",
    "         'rp': pearsonr(test_df['act'], test_df['pred'])[0],\n",
    "         'rs': spearmanr(test_df['act'], test_df['pred'])[0],\n",
    "         'rk': kendalltau(test_df['act'], test_df['pred'])[0],\n",
    "\n",
    "         'rp_active': pearsonr(test_df['act'][test_df['act_bin']], test_df['pred'][test_df['act_bin']])[0],\n",
    "         'rs_active': spearmanr(test_df['act'][test_df['act_bin']], test_df['pred'][test_df['act_bin']])[0],\n",
    "         'rk_active': kendalltau(test_df['act'][test_df['act_bin']], test_df['pred'][test_df['act_bin']])[0],\n",
    "\n",
    "         'rp_inactive': pearsonr(test_df['act'][~test_df['act_bin']], test_df['pred'][~test_df['act_bin']])[0],\n",
    "         'rs_inactive': spearmanr(test_df['act'][~test_df['act_bin']], test_df['pred'][~test_df['act_bin']])[0],\n",
    "         'rk_inactive': kendalltau(test_df['act'][~test_df['act_bin']], test_df['pred'][~test_df['act_bin']])[0],\n",
    "\n",
    "         'mse': mean_squared_error(test_df['act'], test_df['pred']),\n",
    "         'roc_log_auc': roc_log_auc(test_df['act_bin'], test_df['pred_bin'], ascending_score=False),# Binary is descending\n",
    "         'precision': precision_score(test_df['act_bin'], test_df['pred_bin']),\n",
    "         'accuracy': accuracy_score(test_df['act_bin'], test_df['pred_bin']),\n",
    "         'recall': recall_score(test_df['act_bin'], test_df['pred_bin']),\n",
    "        }\n",
    "    print(d)\n",
    "    \n",
    "    out.append(d)\n",
    "    \n",
    "    r = rfscore.load(version=v)\n",
    "    r.model = CompiledRegressionPredictor(rf, n_jobs=-1)\n",
    "    r.score_title = 'RFScoreVS_v%i_%s' % (v, engine)\n",
    "    pkl_file = 'RFScoreVS_v%i_%s.pickle' % (v,engine)\n",
    "    r.save(pkl_file)"
   ]
  },
  {
   "cell_type": "code",
   "execution_count": 10,
   "metadata": {
    "collapsed": true
   },
   "outputs": [],
   "source": [
    "pd.DataFrame(out).to_csv('dude_final_sf.csv')"
   ]
  },
  {
   "cell_type": "code",
   "execution_count": 11,
   "metadata": {
    "collapsed": false
   },
   "outputs": [
    {
     "data": {
      "text/html": [
       "<div>\n",
       "<table border=\"1\" class=\"dataframe\">\n",
       "  <thead>\n",
       "    <tr style=\"text-align: right;\">\n",
       "      <th></th>\n",
       "      <th></th>\n",
       "      <th></th>\n",
       "      <th>accuracy</th>\n",
       "      <th>ef0.1</th>\n",
       "      <th>ef1</th>\n",
       "      <th>ef10</th>\n",
       "      <th>ef2</th>\n",
       "      <th>ef5</th>\n",
       "      <th>mse</th>\n",
       "      <th>precision</th>\n",
       "      <th>recall</th>\n",
       "      <th>rk</th>\n",
       "      <th>rk_active</th>\n",
       "      <th>rk_inactive</th>\n",
       "      <th>roc_auc</th>\n",
       "      <th>roc_log_auc</th>\n",
       "      <th>rp</th>\n",
       "      <th>rp_active</th>\n",
       "      <th>rp_inactive</th>\n",
       "      <th>rs</th>\n",
       "      <th>rs_active</th>\n",
       "      <th>rs_inactive</th>\n",
       "    </tr>\n",
       "    <tr>\n",
       "      <th>engine</th>\n",
       "      <th>v</th>\n",
       "      <th>trees</th>\n",
       "      <th></th>\n",
       "      <th></th>\n",
       "      <th></th>\n",
       "      <th></th>\n",
       "      <th></th>\n",
       "      <th></th>\n",
       "      <th></th>\n",
       "      <th></th>\n",
       "      <th></th>\n",
       "      <th></th>\n",
       "      <th></th>\n",
       "      <th></th>\n",
       "      <th></th>\n",
       "      <th></th>\n",
       "      <th></th>\n",
       "      <th></th>\n",
       "      <th></th>\n",
       "      <th></th>\n",
       "      <th></th>\n",
       "      <th></th>\n",
       "    </tr>\n",
       "  </thead>\n",
       "  <tbody>\n",
       "    <tr>\n",
       "      <th rowspan=\"3\" valign=\"top\">dock</th>\n",
       "      <th>1</th>\n",
       "      <th>500</th>\n",
       "      <td>0.900033</td>\n",
       "      <td>71.104521</td>\n",
       "      <td>27.412174</td>\n",
       "      <td>6.091570</td>\n",
       "      <td>18.078893</td>\n",
       "      <td>9.934102</td>\n",
       "      <td>0.039552</td>\n",
       "      <td>0.064117</td>\n",
       "      <td>0.612402</td>\n",
       "      <td>0.098635</td>\n",
       "      <td>0.163102</td>\n",
       "      <td>0.004484</td>\n",
       "      <td>0.757775</td>\n",
       "      <td>0.272468</td>\n",
       "      <td>0.370424</td>\n",
       "      <td>0.253168</td>\n",
       "      <td>0.012366</td>\n",
       "      <td>0.120973</td>\n",
       "      <td>0.241002</td>\n",
       "      <td>0.005488</td>\n",
       "    </tr>\n",
       "    <tr>\n",
       "      <th>2</th>\n",
       "      <th>500</th>\n",
       "      <td>0.897485</td>\n",
       "      <td>83.772036</td>\n",
       "      <td>33.492457</td>\n",
       "      <td>6.682957</td>\n",
       "      <td>21.364282</td>\n",
       "      <td>11.166842</td>\n",
       "      <td>0.039041</td>\n",
       "      <td>0.068331</td>\n",
       "      <td>0.677834</td>\n",
       "      <td>0.108516</td>\n",
       "      <td>0.183155</td>\n",
       "      <td>0.005771</td>\n",
       "      <td>0.788850</td>\n",
       "      <td>0.279475</td>\n",
       "      <td>0.420988</td>\n",
       "      <td>0.277684</td>\n",
       "      <td>0.008649</td>\n",
       "      <td>0.133132</td>\n",
       "      <td>0.270846</td>\n",
       "      <td>0.007067</td>\n",
       "    </tr>\n",
       "    <tr>\n",
       "      <th>3</th>\n",
       "      <th>500</th>\n",
       "      <td>0.901311</td>\n",
       "      <td>82.080014</td>\n",
       "      <td>32.751985</td>\n",
       "      <td>6.664494</td>\n",
       "      <td>21.068068</td>\n",
       "      <td>11.176285</td>\n",
       "      <td>0.038695</td>\n",
       "      <td>0.070599</td>\n",
       "      <td>0.671541</td>\n",
       "      <td>0.107305</td>\n",
       "      <td>0.172184</td>\n",
       "      <td>0.005350</td>\n",
       "      <td>0.787676</td>\n",
       "      <td>0.283291</td>\n",
       "      <td>0.421172</td>\n",
       "      <td>0.265466</td>\n",
       "      <td>0.012042</td>\n",
       "      <td>0.131633</td>\n",
       "      <td>0.254742</td>\n",
       "      <td>0.006550</td>\n",
       "    </tr>\n",
       "    <tr>\n",
       "      <th rowspan=\"3\" valign=\"top\">dude</th>\n",
       "      <th>1</th>\n",
       "      <th>500</th>\n",
       "      <td>0.854288</td>\n",
       "      <td>58.021074</td>\n",
       "      <td>31.445210</td>\n",
       "      <td>6.631391</td>\n",
       "      <td>20.802044</td>\n",
       "      <td>11.106029</td>\n",
       "      <td>0.052551</td>\n",
       "      <td>0.076577</td>\n",
       "      <td>0.731119</td>\n",
       "      <td>0.130388</td>\n",
       "      <td>0.180907</td>\n",
       "      <td>0.006454</td>\n",
       "      <td>0.793707</td>\n",
       "      <td>0.243086</td>\n",
       "      <td>0.473915</td>\n",
       "      <td>0.289279</td>\n",
       "      <td>0.019958</td>\n",
       "      <td>0.160044</td>\n",
       "      <td>0.266062</td>\n",
       "      <td>0.007899</td>\n",
       "    </tr>\n",
       "    <tr>\n",
       "      <th>2</th>\n",
       "      <th>500</th>\n",
       "      <td>0.851125</td>\n",
       "      <td>61.859392</td>\n",
       "      <td>39.452692</td>\n",
       "      <td>7.436156</td>\n",
       "      <td>25.446294</td>\n",
       "      <td>12.920879</td>\n",
       "      <td>0.049891</td>\n",
       "      <td>0.081413</td>\n",
       "      <td>0.805437</td>\n",
       "      <td>0.142816</td>\n",
       "      <td>0.196060</td>\n",
       "      <td>0.006408</td>\n",
       "      <td>0.828653</td>\n",
       "      <td>0.249558</td>\n",
       "      <td>0.545254</td>\n",
       "      <td>0.314859</td>\n",
       "      <td>0.019330</td>\n",
       "      <td>0.175334</td>\n",
       "      <td>0.287349</td>\n",
       "      <td>0.007847</td>\n",
       "    </tr>\n",
       "    <tr>\n",
       "      <th>3</th>\n",
       "      <th>500</th>\n",
       "      <td>0.862815</td>\n",
       "      <td>61.546971</td>\n",
       "      <td>38.113648</td>\n",
       "      <td>7.402680</td>\n",
       "      <td>24.683039</td>\n",
       "      <td>12.708418</td>\n",
       "      <td>0.049152</td>\n",
       "      <td>0.086586</td>\n",
       "      <td>0.791019</td>\n",
       "      <td>0.142140</td>\n",
       "      <td>0.189700</td>\n",
       "      <td>0.006348</td>\n",
       "      <td>0.827502</td>\n",
       "      <td>0.258627</td>\n",
       "      <td>0.542714</td>\n",
       "      <td>0.308250</td>\n",
       "      <td>0.021549</td>\n",
       "      <td>0.174489</td>\n",
       "      <td>0.278828</td>\n",
       "      <td>0.007772</td>\n",
       "    </tr>\n",
       "    <tr>\n",
       "      <th rowspan=\"3\" valign=\"top\">vina</th>\n",
       "      <th>1</th>\n",
       "      <th>500</th>\n",
       "      <td>0.856264</td>\n",
       "      <td>56.421108</td>\n",
       "      <td>32.578597</td>\n",
       "      <td>6.882483</td>\n",
       "      <td>21.583049</td>\n",
       "      <td>11.598383</td>\n",
       "      <td>0.052406</td>\n",
       "      <td>0.083859</td>\n",
       "      <td>0.752950</td>\n",
       "      <td>0.139987</td>\n",
       "      <td>0.188557</td>\n",
       "      <td>0.007758</td>\n",
       "      <td>0.805498</td>\n",
       "      <td>0.247708</td>\n",
       "      <td>0.499936</td>\n",
       "      <td>0.314105</td>\n",
       "      <td>0.022727</td>\n",
       "      <td>0.171848</td>\n",
       "      <td>0.277283</td>\n",
       "      <td>0.009496</td>\n",
       "    </tr>\n",
       "    <tr>\n",
       "      <th>2</th>\n",
       "      <th>500</th>\n",
       "      <td>0.852619</td>\n",
       "      <td>58.688317</td>\n",
       "      <td>39.514351</td>\n",
       "      <td>7.675294</td>\n",
       "      <td>26.237390</td>\n",
       "      <td>13.386240</td>\n",
       "      <td>0.050021</td>\n",
       "      <td>0.088657</td>\n",
       "      <td>0.828471</td>\n",
       "      <td>0.152112</td>\n",
       "      <td>0.211781</td>\n",
       "      <td>0.008521</td>\n",
       "      <td>0.840754</td>\n",
       "      <td>0.253788</td>\n",
       "      <td>0.565761</td>\n",
       "      <td>0.345247</td>\n",
       "      <td>0.021510</td>\n",
       "      <td>0.186758</td>\n",
       "      <td>0.309465</td>\n",
       "      <td>0.010434</td>\n",
       "    </tr>\n",
       "    <tr>\n",
       "      <th>3</th>\n",
       "      <th>500</th>\n",
       "      <td>0.860320</td>\n",
       "      <td>58.299653</td>\n",
       "      <td>38.159611</td>\n",
       "      <td>7.552126</td>\n",
       "      <td>25.339582</td>\n",
       "      <td>13.142500</td>\n",
       "      <td>0.049969</td>\n",
       "      <td>0.091761</td>\n",
       "      <td>0.812978</td>\n",
       "      <td>0.150160</td>\n",
       "      <td>0.193328</td>\n",
       "      <td>0.008573</td>\n",
       "      <td>0.837058</td>\n",
       "      <td>0.259079</td>\n",
       "      <td>0.553080</td>\n",
       "      <td>0.321023</td>\n",
       "      <td>0.022041</td>\n",
       "      <td>0.184357</td>\n",
       "      <td>0.284135</td>\n",
       "      <td>0.010496</td>\n",
       "    </tr>\n",
       "  </tbody>\n",
       "</table>\n",
       "</div>"
      ],
      "text/plain": [
       "                accuracy      ef0.1        ef1      ef10        ef2  \\\n",
       "engine v trees                                                        \n",
       "dock   1 500    0.900033  71.104521  27.412174  6.091570  18.078893   \n",
       "       2 500    0.897485  83.772036  33.492457  6.682957  21.364282   \n",
       "       3 500    0.901311  82.080014  32.751985  6.664494  21.068068   \n",
       "dude   1 500    0.854288  58.021074  31.445210  6.631391  20.802044   \n",
       "       2 500    0.851125  61.859392  39.452692  7.436156  25.446294   \n",
       "       3 500    0.862815  61.546971  38.113648  7.402680  24.683039   \n",
       "vina   1 500    0.856264  56.421108  32.578597  6.882483  21.583049   \n",
       "       2 500    0.852619  58.688317  39.514351  7.675294  26.237390   \n",
       "       3 500    0.860320  58.299653  38.159611  7.552126  25.339582   \n",
       "\n",
       "                      ef5       mse  precision    recall        rk  rk_active  \\\n",
       "engine v trees                                                                  \n",
       "dock   1 500     9.934102  0.039552   0.064117  0.612402  0.098635   0.163102   \n",
       "       2 500    11.166842  0.039041   0.068331  0.677834  0.108516   0.183155   \n",
       "       3 500    11.176285  0.038695   0.070599  0.671541  0.107305   0.172184   \n",
       "dude   1 500    11.106029  0.052551   0.076577  0.731119  0.130388   0.180907   \n",
       "       2 500    12.920879  0.049891   0.081413  0.805437  0.142816   0.196060   \n",
       "       3 500    12.708418  0.049152   0.086586  0.791019  0.142140   0.189700   \n",
       "vina   1 500    11.598383  0.052406   0.083859  0.752950  0.139987   0.188557   \n",
       "       2 500    13.386240  0.050021   0.088657  0.828471  0.152112   0.211781   \n",
       "       3 500    13.142500  0.049969   0.091761  0.812978  0.150160   0.193328   \n",
       "\n",
       "                rk_inactive   roc_auc  roc_log_auc        rp  rp_active  \\\n",
       "engine v trees                                                            \n",
       "dock   1 500       0.004484  0.757775     0.272468  0.370424   0.253168   \n",
       "       2 500       0.005771  0.788850     0.279475  0.420988   0.277684   \n",
       "       3 500       0.005350  0.787676     0.283291  0.421172   0.265466   \n",
       "dude   1 500       0.006454  0.793707     0.243086  0.473915   0.289279   \n",
       "       2 500       0.006408  0.828653     0.249558  0.545254   0.314859   \n",
       "       3 500       0.006348  0.827502     0.258627  0.542714   0.308250   \n",
       "vina   1 500       0.007758  0.805498     0.247708  0.499936   0.314105   \n",
       "       2 500       0.008521  0.840754     0.253788  0.565761   0.345247   \n",
       "       3 500       0.008573  0.837058     0.259079  0.553080   0.321023   \n",
       "\n",
       "                rp_inactive        rs  rs_active  rs_inactive  \n",
       "engine v trees                                                 \n",
       "dock   1 500       0.012366  0.120973   0.241002     0.005488  \n",
       "       2 500       0.008649  0.133132   0.270846     0.007067  \n",
       "       3 500       0.012042  0.131633   0.254742     0.006550  \n",
       "dude   1 500       0.019958  0.160044   0.266062     0.007899  \n",
       "       2 500       0.019330  0.175334   0.287349     0.007847  \n",
       "       3 500       0.021549  0.174489   0.278828     0.007772  \n",
       "vina   1 500       0.022727  0.171848   0.277283     0.009496  \n",
       "       2 500       0.021510  0.186758   0.309465     0.010434  \n",
       "       3 500       0.022041  0.184357   0.284135     0.010496  "
      ]
     },
     "execution_count": 11,
     "metadata": {},
     "output_type": "execute_result"
    }
   ],
   "source": [
    "g = pd.DataFrame(out).groupby(['engine', 'v', 'trees']).mean()\n",
    "g"
   ]
  },
  {
   "cell_type": "code",
   "execution_count": null,
   "metadata": {
    "collapsed": true
   },
   "outputs": [],
   "source": []
  },
  {
   "cell_type": "code",
   "execution_count": 19,
   "metadata": {
    "collapsed": true
   },
   "outputs": [],
   "source": [
    "from itertools import product"
   ]
  },
  {
   "cell_type": "code",
   "execution_count": 46,
   "metadata": {
    "collapsed": true
   },
   "outputs": [],
   "source": [
    "imp = rf.feature_importances_"
   ]
  },
  {
   "cell_type": "code",
   "execution_count": 31,
   "metadata": {
    "collapsed": false
   },
   "outputs": [],
   "source": [
    "idx = np.argsort(rf.feature_importances_, )[::-1]"
   ]
  },
  {
   "cell_type": "code",
   "execution_count": 41,
   "metadata": {
    "collapsed": false
   },
   "outputs": [],
   "source": [
    "labels = ['gauss1', 'gauss2', 'repulsion', 'hydrophobic', 'h-bonding', 'n_rotors'] + list(product([6, 7, 8, 9, 15, 16, 17, 35, 53], [6, 7, 8, 16]))"
   ]
  },
  {
   "cell_type": "code",
   "execution_count": 47,
   "metadata": {
    "collapsed": false
   },
   "outputs": [
    {
     "name": "stdout",
     "output_type": "stream",
     "text": [
      "1 gauss2 0.065\n",
      "2 gauss1 0.065\n",
      "3 h-bonding 0.065\n",
      "4 repulsion 0.056\n",
      "5 (6, 8) 0.053\n",
      "6 (6, 16) 0.053\n",
      "7 hydrophobic 0.052\n",
      "8 (6, 6) 0.049\n",
      "9 (7, 8) 0.047\n",
      "10 (6, 7) 0.046\n",
      "11 (7, 7) 0.044\n",
      "12 (7, 6) 0.043\n",
      "13 (8, 6) 0.039\n",
      "14 (8, 7) 0.038\n",
      "15 n_rotors 0.037\n",
      "16 (8, 8) 0.034\n",
      "17 (7, 16) 0.029\n",
      "18 (8, 16) 0.027\n",
      "19 (16, 6) 0.022\n",
      "20 (16, 7) 0.019\n",
      "21 (16, 8) 0.017\n",
      "22 (9, 6) 0.012\n",
      "23 (9, 7) 0.011\n",
      "24 (17, 6) 0.01\n",
      "25 (17, 8) 0.01\n",
      "26 (9, 8) 0.01\n",
      "27 (17, 7) 0.009\n",
      "28 (16, 16) 0.008\n",
      "29 (9, 16) 0.008\n",
      "30 (17, 16) 0.007\n",
      "31 (35, 7) 0.003\n",
      "32 (35, 6) 0.003\n",
      "33 (35, 8) 0.003\n",
      "34 (35, 16) 0.001\n",
      "35 (15, 8) 0.001\n",
      "36 (15, 7) 0.001\n",
      "37 (15, 6) 0.001\n",
      "38 (53, 6) 0.001\n",
      "39 (53, 8) 0.001\n",
      "40 (53, 16) 0.001\n",
      "41 (53, 7) 0.001\n",
      "42 (15, 16) 0.0\n"
     ]
    }
   ],
   "source": [
    "for n, i in enumerate(idx):\n",
    "    print(n+1, labels[i], round(imp[i],3))"
   ]
  },
  {
   "cell_type": "code",
   "execution_count": null,
   "metadata": {
    "collapsed": true
   },
   "outputs": [],
   "source": []
  },
  {
   "cell_type": "code",
   "execution_count": null,
   "metadata": {
    "collapsed": true
   },
   "outputs": [],
   "source": []
  }
 ],
 "metadata": {
  "kernelspec": {
   "display_name": "Python 2",
   "language": "python",
   "name": "python2"
  },
  "language_info": {
   "codemirror_mode": {
    "name": "ipython",
    "version": 2
   },
   "file_extension": ".py",
   "mimetype": "text/x-python",
   "name": "python",
   "nbconvert_exporter": "python",
   "pygments_lexer": "ipython2",
   "version": "2.7.12"
  }
 },
 "nbformat": 4,
 "nbformat_minor": 0
}
