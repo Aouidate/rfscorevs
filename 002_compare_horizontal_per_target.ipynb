{
 "cells": [
  {
   "cell_type": "code",
   "execution_count": 1,
   "metadata": {
    "collapsed": true
   },
   "outputs": [],
   "source": [
    "import pandas as pd"
   ]
  },
  {
   "cell_type": "code",
   "execution_count": 2,
   "metadata": {
    "collapsed": true
   },
   "outputs": [],
   "source": [
    "pd.set_option('display.max_rows', 100)"
   ]
  },
  {
   "cell_type": "code",
   "execution_count": 3,
   "metadata": {
    "collapsed": false,
    "scrolled": true
   },
   "outputs": [
    {
     "name": "stderr",
     "output_type": "stream",
     "text": [
      "/home/maciek/miniconda/lib/python2.7/site-packages/IPython/html.py:14: ShimWarning: The `IPython.html` package has been deprecated. You should import from `notebook` instead. `IPython.html.widgets` has moved to `ipywidgets`.\n",
      "  \"`IPython.html.widgets` has moved to `ipywidgets`.\", ShimWarning)\n"
     ]
    }
   ],
   "source": [
    "import seaborn as sns"
   ]
  },
  {
   "cell_type": "code",
   "execution_count": 4,
   "metadata": {
    "collapsed": true
   },
   "outputs": [],
   "source": [
    "from matplotlib.pylab import plt"
   ]
  },
  {
   "cell_type": "code",
   "execution_count": 5,
   "metadata": {
    "collapsed": false
   },
   "outputs": [],
   "source": [
    "%matplotlib inline"
   ]
  },
  {
   "cell_type": "code",
   "execution_count": 6,
   "metadata": {
    "collapsed": false
   },
   "outputs": [],
   "source": [
    "# raport = pd.concat(\n",
    "#     (pd.read_csv('dude_horizontal_dock_final.csv', index_col=0),\n",
    "#     pd.read_csv('dude_horizontal_dude_final.csv', index_col=0),\n",
    "#     pd.read_csv('dude_horizontal_vina_final.csv', index_col=0))).reset_index(drop=True)"
   ]
  },
  {
   "cell_type": "code",
   "execution_count": 10,
   "metadata": {
    "collapsed": false
   },
   "outputs": [],
   "source": [
    "raport_per_target = pd.read_csv('dude_per_target.csv', index_col=0)\n",
    "raport_per_target['n_folds'] = 5\n",
    "raport_per_target['kind'] = 'Per Target'\n",
    "\n",
    "raport_per_target['engine'].replace('dock', 'Dock 6.6', inplace=True)\n",
    "raport_per_target['engine'].replace('dude', 'Dock 3.6', inplace=True)\n",
    "raport_per_target['engine'].replace('vina', 'Autodock Vina', inplace=True)\n",
    "\n",
    "raport_per_target['v'] = 'RF-Score-VS v' + raport_per_target['v'].astype(str)\n",
    "raport_per_target.rename(columns={'v':'score'}, inplace=True)\n",
    "\n",
    "raport_per_target = raport_per_target.groupby(('engine', 'kind', 'score', 'n_folds', 'dude_id')).mean().reset_index()"
   ]
  },
  {
   "cell_type": "code",
   "execution_count": null,
   "metadata": {
    "collapsed": false
   },
   "outputs": [],
   "source": []
  },
  {
   "cell_type": "code",
   "execution_count": 11,
   "metadata": {
    "collapsed": true
   },
   "outputs": [],
   "source": [
    "raport_horizontal_multitarget = pd.read_csv('dude_horizontal_multitarget.csv', index_col=0)\n",
    "# raport_horizontal = pd.read_csv('dude_horizontal_final.csv', index_col=0)\n",
    "\n",
    "raport_horizontal_multitarget.drop('head',axis=1, inplace=True)\n",
    "\n",
    "# rename 'v' to 'scores'\n",
    "raport_horizontal_multitarget['v'] = 'RF-Score-VS v' + raport_horizontal_multitarget['v'].astype(int).astype(str)\n",
    "raport_horizontal_multitarget.rename(columns={'v':'score'}, inplace=True)\n",
    "raport_horizontal_multitarget['n_folds'] = 5\n",
    "\n",
    "raport_horizontal_multitarget['kind'] = 'Horizontal Multitarget'\n",
    "\n",
    "raport_horizontal_multitarget['engine'].replace('dock', 'Dock 6.6', inplace=True)\n",
    "raport_horizontal_multitarget['engine'].replace('dude', 'Dock 3.6', inplace=True)\n",
    "raport_horizontal_multitarget['engine'].replace('vina', 'Autodock Vina', inplace=True)"
   ]
  },
  {
   "cell_type": "code",
   "execution_count": 15,
   "metadata": {
    "collapsed": false
   },
   "outputs": [],
   "source": [
    "#raport_final.groupby(('engine', 'kind', 'score', 'n_folds')).std()"
   ]
  },
  {
   "cell_type": "code",
   "execution_count": 20,
   "metadata": {
    "collapsed": false
   },
   "outputs": [],
   "source": [
    "dude_ids = ['aa2ar', 'abl1', 'ace', 'aces', 'ada', 'ada17', 'adrb1', 'adrb2', 'akt1', 'akt2', 'aldr', 'ampc', 'andr', 'aofb', 'bace1', 'braf', 'cah2', 'casp3', 'cdk2', 'comt', 'cp2c9', 'cp3a4', 'csf1r', 'cxcr4', 'def', 'dhi1', 'dpp4', 'drd3', 'dyr', 'egfr', 'esr1', 'esr2', 'fa10', 'fa7', 'fabp4', 'fak1', 'fgfr1', 'fkb1a', 'fnta', 'fpps', 'gcr', 'glcm', 'gria2', 'grik1', 'hdac2', 'hdac8', 'hivint', 'hivpr', 'hivrt', 'hmdh', 'hs90a', 'hxk4', 'igf1r', 'inha', 'ital', 'jak2', 'kif11', 'kit', 'kith', 'kpcb', 'lck', 'lkha4', 'mapk2', 'mcr', 'met', 'mk01', 'mk10', 'mk14', 'mmp13', 'mp2k1', 'nos1', 'nram', 'pa2ga', 'parp1', 'pde5a', 'pgh1', 'pgh2', 'plk1', 'pnph', 'ppara', 'ppard', 'pparg', 'prgr', 'ptn1', 'pur2', 'pygm', 'pyrd', 'reni', 'rock1', 'rxra', 'sahh', 'src', 'tgfr1', 'thb', 'thrb', 'try1', 'tryb1', 'tysy', 'urok', 'vgfr2', 'wee1', 'xiap']\n",
    "\n",
    "dude_weights = pd.DataFrame([{'dude_id':dude_id,\n",
    "                             'size': len(pd.read_csv('head1_full/%s/dude/%s_desc_v%i.csv.gz' % (dude_id, 'actives', 1),\n",
    "                                                     header=None,\n",
    "                                                     dtype={i: pd.np.uint16 for i in range(1,37)}).drop_duplicates(0))}\n",
    "                             for dude_id in dude_ids]\n",
    "                           )"
   ]
  },
  {
   "cell_type": "code",
   "execution_count": 33,
   "metadata": {
    "collapsed": false
   },
   "outputs": [
    {
     "data": {
      "text/plain": [
       "(849, 28)"
      ]
     },
     "execution_count": 33,
     "metadata": {},
     "output_type": "execute_result"
    }
   ],
   "source": [
    "raport_horizontal_multitarget.groupby(('engine', 'score', 'dude_id')).mean().shape"
   ]
  },
  {
   "cell_type": "code",
   "execution_count": 34,
   "metadata": {
    "collapsed": true
   },
   "outputs": [],
   "source": [
    "sns.set_style(\"whitegrid\")"
   ]
  },
  {
   "cell_type": "code",
   "execution_count": null,
   "metadata": {
    "collapsed": false,
    "scrolled": false
   },
   "outputs": [],
   "source": [
    "data4 = pd.merge(raport_horizontal_multitarget.groupby(('engine', 'score', 'dude_id'), as_index=False).mean(),\n",
    "                 raport_per_target.groupby(('engine', 'score', 'dude_id'), as_index=False).mean(),\n",
    "                 on=['dude_id', 'engine', 'score'],\n",
    "                 suffixes=('_horizontal_multitarget', '_per_target'))\n",
    "# data4 = pd.merge(data4, pd.read_csv('dude_target_classes.csv'), on='dude_id', how='inner')\n",
    "\n",
    "# data4['target_class'].fillna('other', inplace=True)\n",
    "\n",
    "data4 = data4.merge(dude_weights, on='dude_id')\n",
    "bin_span = 100\n",
    "data4['size'] = (((data4['size']/bin_span).round())*bin_span).astype(int)\n",
    "data4['size'] = data4['size'].astype(str) + '-' + (data4['size']+bin_span).astype(str)\n",
    "\n",
    "# retain Vina only\n",
    "data4 = data4[data4['engine'] == 'Autodock Vina']\n",
    "\n",
    "data4.rename(columns={'size': 'Number of active ligands',\n",
    "                      'engine': 'Docking software',\n",
    "                      'score': 'Scoring function',\n",
    "                      'ef1_per_target': 'EF1% [Per-Target]',\n",
    "                      'ef1_horizontal_multitarget': 'EF1% [Horizontal]',\n",
    "                     }, inplace=True)\n",
    "\n",
    "g = sns.FacetGrid(data4,\n",
    "                  col='Scoring function',\n",
    "                  row='Docking software',\n",
    "                  hue='Number of active ligands',\n",
    "                  hue_order=['0-100',\n",
    "                             '100-200',\n",
    "                             '200-300',\n",
    "                             '300-400',\n",
    "                             '400-500',\n",
    "                             '500-600',\n",
    "                             '600-700',\n",
    "                            ],\n",
    "                  sharex=False,\n",
    "                  sharey=False,\n",
    "                  margin_titles=True,\n",
    "                  #hue_kws={'marker': ['^', 'v','s', 'o', 'D']},\n",
    "                  palette=sns.color_palette(\"Blues\", 7,),\n",
    "                  #palette=sns.cubehelix_palette(7),\n",
    "                  size=4,\n",
    "                  dropna=True,\n",
    "                 )\n",
    "\n",
    "g.map(plt.scatter,\n",
    "      'EF1% [Per-Target]',\n",
    "      'EF1% [Horizontal]',\n",
    "      s=40,\n",
    "      linewidth=3,\n",
    "      marker='.',\n",
    "     )\n",
    "\n",
    "\n",
    "lim = (0, 75)\n",
    "delta = 5\n",
    "for ax in g.axes.flat:\n",
    "    ax.plot(lim, lim, c=\"r\", ls=\"--\", alpha=.5)\n",
    "    # 5 mark\n",
    "    ax.plot((lim[0],lim[1]-delta), (lim[0]+delta,lim[1]), c=\"g\", ls=\":\", alpha=.6)\n",
    "    ax.plot((lim[0]+delta,lim[1]), (lim[0],lim[1]-delta), c=\"g\", ls=\":\", alpha=.6)\n",
    "    # 10 mark\n",
    "    ax.plot((lim[0],lim[1]-2*delta), (lim[0]+2*delta,lim[1]), c=\"g\", ls=\":\", alpha=.4)\n",
    "    ax.plot((lim[0]+2*delta,lim[1]), (lim[0],lim[1]-2*delta), c=\"g\", ls=\":\", alpha=.4)\n",
    "g.set(xlim=lim, ylim=lim)\n",
    "g.add_legend()\n",
    "\n",
    "\n",
    "# plt.show()\n",
    "\n",
    "g.savefig('dude_raport_compare_ef1_pertarget_horizontal.png', dpi=300)"
   ]
  },
  {
   "cell_type": "code",
   "execution_count": 24,
   "metadata": {
    "collapsed": false
   },
   "outputs": [
    {
     "name": "stdout",
     "output_type": "stream",
     "text": [
      "(2.5609686609680002, 80.471874999999997)\n",
      "(0.0, 74.892432770500008)\n"
     ]
    }
   ],
   "source": [
    "for k in ['EF1% [Per-Target]', 'EF1% [Horizontal]']:\n",
    "    print(data4[k].min(), data4[k].max())"
   ]
  },
  {
   "cell_type": "code",
   "execution_count": null,
   "metadata": {
    "collapsed": true
   },
   "outputs": [],
   "source": []
  }
 ],
 "metadata": {
  "kernelspec": {
   "display_name": "Python 2",
   "language": "python",
   "name": "python2"
  },
  "language_info": {
   "codemirror_mode": {
    "name": "ipython",
    "version": 2
   },
   "file_extension": ".py",
   "mimetype": "text/x-python",
   "name": "python",
   "nbconvert_exporter": "python",
   "pygments_lexer": "ipython2",
   "version": "2.7.12"
  }
 },
 "nbformat": 4,
 "nbformat_minor": 0
}
